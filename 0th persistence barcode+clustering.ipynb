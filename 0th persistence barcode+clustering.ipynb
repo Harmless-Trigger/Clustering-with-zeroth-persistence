{
 "cells": [
  {
   "cell_type": "code",
   "execution_count": 36,
   "metadata": {},
   "outputs": [
    {
     "name": "stdout",
     "output_type": "stream",
     "text": [
      "6.235904263218368\n"
     ]
    },
    {
     "data": {
      "image/png": "[encoded data removed]",
      "text/plain": [
       "<Figure size 432x288 with 1 Axes>"
      ]
     },
     "metadata": {
      "needs_background": "light"
     },
     "output_type": "display_data"
    }
   ],
   "source": [
    "import pandas as pd\n",
    "import pandas as pd\n",
    "from scipy.spatial.distance import pdist\n",
    "import itertools\n",
    "import matplotlib.pyplot as plt\n",
    "import matplotlib.patches as mpatches\n",
    "import numpy as np\n",
    "df=pd.read_excel(r'E:\\Vinay\\Study related\\TDA course\\set13.xlsx')\n",
    "p=df.index.tolist()\n",
    "s=df.index.tolist()\n",
    "q=df.index.tolist()\n",
    "data = df.values\n",
    "d = pd.DataFrame(itertools.combinations(df.index, 2), columns=['i','j'])\n",
    "d['dist'] = pdist(data, 'euclid')\n",
    "dist=d.values.tolist()\n",
    "d=d[\"dist\"].values.tolist()\n",
    "r= sorted(dist, key=lambda x: x[2])\n",
    "for i in range(len(r)):\n",
    "  x=int(r[i][0])\n",
    "  y=int(r[i][1])\n",
    "  while s[x]!=x:\n",
    "    x=s[x]\n",
    "  while s[y]!=y:\n",
    "    y=s[y]\n",
    "  if x!=y:\n",
    "    m=max(x,y)\n",
    "    q[m]=r[i][2]\n",
    "    s[m]=x+y-m\n",
    "barlist=plt.barh(p,q)\n",
    "plt.ylabel(\"Point cloud data\")  \n",
    "plt.xlabel(\"Merging distance for components\") \n",
    "plt.title(\"Persistent barcode\") \n",
    "style=\"Simple, head_width=4, head_length=3\"\n",
    "arrow = mpatches.FancyArrowPatch((0, 0), (plt.gca().get_xlim()[1] ,0), color='b', arrowstyle=style, zorder=2)\n",
    "plt.gca().add_patch(arrow)\n",
    "# barlist[0].set_color('r')\n",
    "print(plt.gca().get_xlim()[1])\n",
    "plt.show()"
   ]
  },
  {
   "cell_type": "code",
   "execution_count": 37,
   "metadata": {},
   "outputs": [
    {
     "data": {
      "text/plain": [
       "24"
      ]
     },
     "execution_count": 37,
     "metadata": {},
     "output_type": "execute_result"
    }
   ],
   "source": [
    "p=df.index.tolist()\n",
    "c=[{i} for i in range(len(p))]\n",
    "q[0]=0\n",
    "n=np.mean(q)\n",
    "sigma=np.std(q)\n",
    "cdist=n+sigma\n",
    "c=[{i} for i in range(len(p))]\n",
    "p=df.index.tolist()\n",
    "for i in range(len(r)):\n",
    "  x=int(r[i][0])\n",
    "  y=int(r[i][1])\n",
    "  while p[x]!=x:\n",
    "    x=p[x]\n",
    "  while p[y]!=y:\n",
    "    y=p[y]\n",
    "  if r[i][2]>cdist:\n",
    "    break\n",
    "  if x!=y:\n",
    "    m=max(x,y)\n",
    "    p[m]=x+y-m\n",
    "    c[x+y-m].update(c[m])\n",
    "    c[m]=set()\n",
    "i=0\n",
    "while i<len(c):\n",
    "    if not c[i]:\n",
    "        del c[i]\n",
    "    else:\n",
    "        i+=1\n",
    "k=len(c) #Number of clusters\n",
    "k"
   ]
  },
  {
   "cell_type": "code",
   "execution_count": 8,
   "metadata": {},
   "outputs": [
    {
     "data": {
      "text/plain": [
       "0.29041878897902523"
      ]
     },
     "execution_count": 8,
     "metadata": {},
     "output_type": "execute_result"
    }
   ],
   "source": [
    "sigma"
   ]
  }
 ],
 "metadata": {
  "kernelspec": {
   "display_name": "Python 3",
   "language": "python",
   "name": "python3"
  },
  "language_info": {
   "codemirror_mode": {
    "name": "ipython",
    "version": 3
   },
   "file_extension": ".py",
   "mimetype": "text/x-python",
   "name": "python",
   "nbconvert_exporter": "python",
   "pygments_lexer": "ipython3",
   "version": "3.7.4"
  }
 },
 "nbformat": 4,
 "nbformat_minor": 2
}
